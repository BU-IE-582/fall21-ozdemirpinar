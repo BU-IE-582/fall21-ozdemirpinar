{
 "cells": [
  {
   "cell_type": "markdown",
   "id": "011eaa06",
   "metadata": {},
   "source": [
    "# Task 1 – Curse of dimensionality and effect of sample size"
   ]
  },
  {
   "cell_type": "raw",
   "id": "bc3b8a7e",
   "metadata": {},
   "source": [
    "a) Calculate the fraction of these points that are within distance 1 of the origin, giving an approximation of the volume of the unit hypersphere to the hypercube inscribing it. Plot this fraction as a function of D (a scatter plot of D versus the fraction)."
   ]
  },
  {
   "cell_type": "code",
   "execution_count": 1,
   "id": "3075c7eb",
   "metadata": {},
   "outputs": [],
   "source": [
    "# Required libraries and functions\n",
    "import numpy as np\n",
    "import matplotlib.pyplot as plt\n",
    "import matplotlib.image as mpimg"
   ]
  },
  {
   "cell_type": "code",
   "execution_count": 2,
   "id": "4399e751",
   "metadata": {},
   "outputs": [],
   "source": [
    "# Simulation of 1000 random D-dimensional point, where the value in each dimension is uniformly randomly distributed between -1 and +1, for D from 1 to 15 dimensions.\n",
    "# Here D[a] (a=1,...15) is called for each one\n",
    "np.random.seed(105) #selected start number\n",
    "D={}\n",
    "di=1000\n",
    "for a in range(1,16):\n",
    "    D[a]=np.random.rand(di,a)*2-1"
   ]
  },
  {
   "cell_type": "code",
   "execution_count": 3,
   "id": "98679fe6",
   "metadata": {},
   "outputs": [
    {
     "data": {
      "text/plain": [
       "{1: 1.0,\n",
       " 2: 0.786,\n",
       " 3: 0.518,\n",
       " 4: 0.318,\n",
       " 5: 0.159,\n",
       " 6: 0.064,\n",
       " 7: 0.035,\n",
       " 8: 0.017,\n",
       " 9: 0.006,\n",
       " 10: 0.001,\n",
       " 11: 0.0,\n",
       " 12: 0.001,\n",
       " 13: 0.0,\n",
       " 14: 0.0,\n",
       " 15: 0.0}"
      ]
     },
     "execution_count": 3,
     "metadata": {},
     "output_type": "execute_result"
    }
   ],
   "source": [
    "# Euclidean distance calculation of each D-dimensional point according to the origin\n",
    "d={}\n",
    "for b in range(1,len(D)+1):\n",
    "    d[b]=np.sqrt(np.sum(D[b]**2, axis=1))\n",
    "    \n",
    "# Calculated fractions of each D-dimensional point according to the origin\n",
    "F={}\n",
    "di=1000\n",
    "for c in range(1,len(D)+1):\n",
    "    F[c]=np.sum(d[c]<1)/di\n",
    "F"
   ]
  },
  {
   "cell_type": "raw",
   "id": "fd680e8f",
   "metadata": {},
   "source": [
    "b) Use the value of this fraction at D = 2 and D = 3 to get estimates for the value of pi (Π) as you know the area (for D = 2) and volume (for D = 3) formulae for these cases."
   ]
  },
  {
   "cell_type": "code",
   "execution_count": 4,
   "id": "9d5d7813",
   "metadata": {},
   "outputs": [
    {
     "data": {
      "text/plain": [
       "3.2172557952326297"
      ]
     },
     "execution_count": 4,
     "metadata": {},
     "output_type": "execute_result"
    }
   ],
   "source": [
    "# Estimation of value of pi for D=2(area) and D=3(volume)\n",
    "estimated_pi=(16*(F[2]**3))/(9*(F[3]**2))\n",
    "estimated_pi"
   ]
  }
 ],
 "metadata": {
  "kernelspec": {
   "display_name": "Python 3",
   "language": "python",
   "name": "python3"
  },
  "language_info": {
   "codemirror_mode": {
    "name": "ipython",
    "version": 3
   },
   "file_extension": ".py",
   "mimetype": "text/x-python",
   "name": "python",
   "nbconvert_exporter": "python",
   "pygments_lexer": "ipython3",
   "version": "3.8.8"
  }
 },
 "nbformat": 4,
 "nbformat_minor": 5
}
